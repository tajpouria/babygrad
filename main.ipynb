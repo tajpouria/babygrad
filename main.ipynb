{
 "cells": [
  {
   "cell_type": "code",
   "execution_count": 53,
   "metadata": {},
   "outputs": [],
   "source": [
    "import numpy as np\n",
    "from matplotlib import pyplot as plt"
   ]
  },
  {
   "cell_type": "code",
   "execution_count": 54,
   "metadata": {},
   "outputs": [],
   "source": [
    "def f(x):\n",
    "    return 3 * x**2 - 2 * x + 1"
   ]
  },
  {
   "cell_type": "code",
   "execution_count": 55,
   "metadata": {},
   "outputs": [
    {
     "data": {
      "text/plain": [
       "22.0"
      ]
     },
     "execution_count": 55,
     "metadata": {},
     "output_type": "execute_result"
    }
   ],
   "source": [
    "y = f(3.0)\n",
    "y"
   ]
  },
  {
   "cell_type": "code",
   "execution_count": 56,
   "metadata": {},
   "outputs": [
    {
     "data": {
      "text/plain": [
       "[<matplotlib.lines.Line2D at 0x7f5bcf503190>]"
      ]
     },
     "execution_count": 56,
     "metadata": {},
     "output_type": "execute_result"
    },
    {
     "data": {
      "image/png": "[encoded data removed]",
      "text/plain": [
       "<Figure size 640x480 with 1 Axes>"
      ]
     },
     "metadata": {},
     "output_type": "display_data"
    }
   ],
   "source": [
    "xs = np.arange(-5, 6, 0.25)\n",
    "ys = f(xs)\n",
    "plt.plot(xs, ys)"
   ]
  },
  {
   "cell_type": "code",
   "execution_count": 57,
   "metadata": {},
   "outputs": [
    {
     "data": {
      "text/plain": [
       "0.11102230246251564"
      ]
     },
     "execution_count": 57,
     "metadata": {},
     "output_type": "execute_result"
    }
   ],
   "source": [
    "h = 0.000000000000001\n",
    "x = 0.35\n",
    "df = (f(x + h) - f(x)) / h\n",
    "df"
   ]
  },
  {
   "cell_type": "code",
   "execution_count": 58,
   "metadata": {},
   "outputs": [
    {
     "name": "stdout",
     "output_type": "stream",
     "text": [
      "1.0000999999999998 0.9999999999976694\n"
     ]
    }
   ],
   "source": [
    "h = 0.0001\n",
    "\n",
    "a = 2.0\n",
    "b = -2.0\n",
    "c = 5.0\n",
    "d1 = a * b + c\n",
    "c += h\n",
    "d2 = a * b + c\n",
    "print(d2, (d2 - d1) / h)"
   ]
  },
  {
   "cell_type": "code",
   "execution_count": 59,
   "metadata": {},
   "outputs": [],
   "source": [
    "class Value:\n",
    "    def __init__(self, data, _prev=(), _op=\"\", _label=\"\"):\n",
    "        self.data = data\n",
    "        self._grad = 0.0\n",
    "        self._prev = set(_prev)\n",
    "        self._op = _op\n",
    "        self._label = _label\n",
    "\n",
    "    def __repr__(self):\n",
    "        return f\"Value({self.data})\"\n",
    "\n",
    "    def __add__(self, other):\n",
    "        return Value(self.data + other.data, (self, other), \"+\")\n",
    "\n",
    "    def __mul__(self, other):\n",
    "        return Value(self.data * other.data, (self, other), \"*\")\n",
    "\n",
    "\n",
    "a = Value(2.0, _label=\"a\")\n",
    "a._grad = -8.0\n",
    "b = Value(-2.0, _label=\"b\")\n",
    "b._grad = 8.0\n",
    "c = Value(5.0, _label=\"c\")\n",
    "c._grad = 4.0\n",
    "e = a * b\n",
    "e._label = \"e\"\n",
    "e._grad = 4.0\n",
    "d = e + c\n",
    "d._label = \"d\"\n",
    "d._grad = 4.0\n",
    "f = Value(4.0, _label=\"f\")\n",
    "f._grad = 1.0\n",
    "L1 = d * f\n",
    "L1._label = \"L\"\n",
    "L1._grad = 1.0"
   ]
  },
  {
   "cell_type": "code",
   "execution_count": 60,
   "metadata": {},
   "outputs": [],
   "source": [
    "from graphviz import Digraph\n",
    "\n",
    "\n",
    "def trace(root):\n",
    "    nodes, edges = set(), set()\n",
    "\n",
    "    def build(node):\n",
    "        if node not in nodes:\n",
    "            nodes.add(node)\n",
    "            for prev in node._prev:\n",
    "                edges.add((prev, node))\n",
    "                build(prev)\n",
    "\n",
    "    build(root)\n",
    "    return nodes, edges\n",
    "\n",
    "\n",
    "def plot_dot(root):\n",
    "    dot = Digraph(format=\"svg\", graph_attr={\"rankdir\": \"LR\"})\n",
    "\n",
    "    nodes, edges = trace(root)\n",
    "    for n in nodes:\n",
    "        uid = str(id(n))\n",
    "        dot.node(uid, label=\"{ %s | data %0.4f | grad %0.4f }\" % (n._label, n.data, n._grad), shape=\"record\")\n",
    "        if n._op:\n",
    "            dot.node(name=uid + n._op, label=n._op)\n",
    "            dot.edge(uid + n._op, uid)\n",
    "\n",
    "    for n1, n2 in edges:\n",
    "        dot.edge(str(id(n1)), str(id(n2)) + n2._op)\n",
    "\n",
    "    return dot"
   ]
  },
  {
   "cell_type": "code",
   "execution_count": 61,
   "metadata": {},
   "outputs": [
    {
     "data": {
      "image/svg+xml": [
       "<?xml version=\"1.0\" encoding=\"UTF-8\" standalone=\"no\"?>\n",
       "<!DOCTYPE svg PUBLIC \"-//W3C//DTD SVG 1.1//EN\"\n",
       " \"http://www.w3.org/Graphics/SVG/1.1/DTD/svg11.dtd\">\n",
       "<!-- Generated by graphviz version 2.43.0 (0)\n",
       " -->\n",
       "<!-- Title: %3 Pages: 1 -->\n",
       "<svg width=\"1323pt\" height=\"156pt\"\n",
       " viewBox=\"0.00 0.00 1323.00 156.00\" xmlns=\"http://www.w3.org/2000/svg\" xmlns:xlink=\"http://www.w3.org/1999/xlink\">\n",
       "<g id=\"graph0\" class=\"graph\" transform=\"scale(1 1) rotate(0) translate(4 152)\">\n",
       "<title>%3</title>\n",
       "<polygon fill=\"white\" stroke=\"transparent\" points=\"-4,4 -4,-152 1319,-152 1319,4 -4,4\"/>\n",
       "<!-- 140032295258128 -->\n",
       "<g id=\"node1\" class=\"node\">\n",
       "<title>140032295258128</title>\n",
       "<polygon fill=\"none\" stroke=\"black\" points=\"1,-111.5 1,-147.5 236,-147.5 236,-111.5 1,-111.5\"/>\n",
       "<text text-anchor=\"middle\" x=\"13.5\" y=\"-125.8\" font-family=\"Times,serif\" font-size=\"14.00\">a</text>\n",
       "<polyline fill=\"none\" stroke=\"black\" points=\"26,-111.5 26,-147.5 \"/>\n",
       "<text text-anchor=\"middle\" x=\"77\" y=\"-125.8\" font-family=\"Times,serif\" font-size=\"14.00\">data 2.0000</text>\n",
       "<polyline fill=\"none\" stroke=\"black\" points=\"128,-111.5 128,-147.5 \"/>\n",
       "<text text-anchor=\"middle\" x=\"182\" y=\"-125.8\" font-family=\"Times,serif\" font-size=\"14.00\">grad &#45;8.0000</text>\n",
       "</g>\n",
       "<!-- 140032295264720* -->\n",
       "<g id=\"node10\" class=\"node\">\n",
       "<title>140032295264720*</title>\n",
       "<ellipse fill=\"none\" stroke=\"black\" cx=\"300\" cy=\"-101.5\" rx=\"27\" ry=\"18\"/>\n",
       "<text text-anchor=\"middle\" x=\"300\" y=\"-97.8\" font-family=\"Times,serif\" font-size=\"14.00\">*</text>\n",
       "</g>\n",
       "<!-- 140032295258128&#45;&gt;140032295264720* -->\n",
       "<g id=\"edge7\" class=\"edge\">\n",
       "<title>140032295258128&#45;&gt;140032295264720*</title>\n",
       "<path fill=\"none\" stroke=\"black\" d=\"M234.96,-111.49C245.12,-109.91 254.8,-108.4 263.41,-107.05\"/>\n",
       "<polygon fill=\"black\" stroke=\"black\" points=\"264.02,-110.5 273.36,-105.5 262.94,-103.58 264.02,-110.5\"/>\n",
       "</g>\n",
       "<!-- 140032295255632 -->\n",
       "<g id=\"node2\" class=\"node\">\n",
       "<title>140032295255632</title>\n",
       "<polygon fill=\"none\" stroke=\"black\" points=\"725,-55.5 725,-91.5 957,-91.5 957,-55.5 725,-55.5\"/>\n",
       "<text text-anchor=\"middle\" x=\"738\" y=\"-69.8\" font-family=\"Times,serif\" font-size=\"14.00\">d</text>\n",
       "<polyline fill=\"none\" stroke=\"black\" points=\"751,-55.5 751,-91.5 \"/>\n",
       "<text text-anchor=\"middle\" x=\"802\" y=\"-69.8\" font-family=\"Times,serif\" font-size=\"14.00\">data 1.0000</text>\n",
       "<polyline fill=\"none\" stroke=\"black\" points=\"853,-55.5 853,-91.5 \"/>\n",
       "<text text-anchor=\"middle\" x=\"905\" y=\"-69.8\" font-family=\"Times,serif\" font-size=\"14.00\">grad 4.0000</text>\n",
       "</g>\n",
       "<!-- 140032295270096* -->\n",
       "<g id=\"node6\" class=\"node\">\n",
       "<title>140032295270096*</title>\n",
       "<ellipse fill=\"none\" stroke=\"black\" cx=\"1020\" cy=\"-45.5\" rx=\"27\" ry=\"18\"/>\n",
       "<text text-anchor=\"middle\" x=\"1020\" y=\"-41.8\" font-family=\"Times,serif\" font-size=\"14.00\">*</text>\n",
       "</g>\n",
       "<!-- 140032295255632&#45;&gt;140032295270096* -->\n",
       "<g id=\"edge5\" class=\"edge\">\n",
       "<title>140032295255632&#45;&gt;140032295270096*</title>\n",
       "<path fill=\"none\" stroke=\"black\" d=\"M956.1,-55.45C965.88,-53.9 975.21,-52.43 983.54,-51.11\"/>\n",
       "<polygon fill=\"black\" stroke=\"black\" points=\"984.19,-54.55 993.52,-49.53 983.1,-47.64 984.19,-54.55\"/>\n",
       "</g>\n",
       "<!-- 140032295255632+ -->\n",
       "<g id=\"node3\" class=\"node\">\n",
       "<title>140032295255632+</title>\n",
       "<ellipse fill=\"none\" stroke=\"black\" cx=\"662\" cy=\"-73.5\" rx=\"27\" ry=\"18\"/>\n",
       "<text text-anchor=\"middle\" x=\"662\" y=\"-69.8\" font-family=\"Times,serif\" font-size=\"14.00\">+</text>\n",
       "</g>\n",
       "<!-- 140032295255632+&#45;&gt;140032295255632 -->\n",
       "<g id=\"edge1\" class=\"edge\">\n",
       "<title>140032295255632+&#45;&gt;140032295255632</title>\n",
       "<path fill=\"none\" stroke=\"black\" d=\"M689.12,-73.5C696.53,-73.5 705.14,-73.5 714.4,-73.5\"/>\n",
       "<polygon fill=\"black\" stroke=\"black\" points=\"714.69,-77 724.69,-73.5 714.69,-70 714.69,-77\"/>\n",
       "</g>\n",
       "<!-- 140032295256208 -->\n",
       "<g id=\"node4\" class=\"node\">\n",
       "<title>140032295256208</title>\n",
       "<polygon fill=\"none\" stroke=\"black\" points=\"0,-56.5 0,-92.5 237,-92.5 237,-56.5 0,-56.5\"/>\n",
       "<text text-anchor=\"middle\" x=\"13\" y=\"-70.8\" font-family=\"Times,serif\" font-size=\"14.00\">b</text>\n",
       "<polyline fill=\"none\" stroke=\"black\" points=\"26,-56.5 26,-92.5 \"/>\n",
       "<text text-anchor=\"middle\" x=\"79.5\" y=\"-70.8\" font-family=\"Times,serif\" font-size=\"14.00\">data &#45;2.0000</text>\n",
       "<polyline fill=\"none\" stroke=\"black\" points=\"133,-56.5 133,-92.5 \"/>\n",
       "<text text-anchor=\"middle\" x=\"185\" y=\"-70.8\" font-family=\"Times,serif\" font-size=\"14.00\">grad 8.0000</text>\n",
       "</g>\n",
       "<!-- 140032295256208&#45;&gt;140032295264720* -->\n",
       "<g id=\"edge8\" class=\"edge\">\n",
       "<title>140032295256208&#45;&gt;140032295264720*</title>\n",
       "<path fill=\"none\" stroke=\"black\" d=\"M237.23,-92.21C246.6,-93.62 255.52,-94.96 263.52,-96.16\"/>\n",
       "<polygon fill=\"black\" stroke=\"black\" points=\"263.06,-99.63 273.47,-97.66 264.1,-92.71 263.06,-99.63\"/>\n",
       "</g>\n",
       "<!-- 140032295270096 -->\n",
       "<g id=\"node5\" class=\"node\">\n",
       "<title>140032295270096</title>\n",
       "<polygon fill=\"none\" stroke=\"black\" points=\"1083,-27.5 1083,-63.5 1315,-63.5 1315,-27.5 1083,-27.5\"/>\n",
       "<text text-anchor=\"middle\" x=\"1096\" y=\"-41.8\" font-family=\"Times,serif\" font-size=\"14.00\">L</text>\n",
       "<polyline fill=\"none\" stroke=\"black\" points=\"1109,-27.5 1109,-63.5 \"/>\n",
       "<text text-anchor=\"middle\" x=\"1160\" y=\"-41.8\" font-family=\"Times,serif\" font-size=\"14.00\">data 4.0000</text>\n",
       "<polyline fill=\"none\" stroke=\"black\" points=\"1211,-27.5 1211,-63.5 \"/>\n",
       "<text text-anchor=\"middle\" x=\"1263\" y=\"-41.8\" font-family=\"Times,serif\" font-size=\"14.00\">grad 1.0000</text>\n",
       "</g>\n",
       "<!-- 140032295270096*&#45;&gt;140032295270096 -->\n",
       "<g id=\"edge2\" class=\"edge\">\n",
       "<title>140032295270096*&#45;&gt;140032295270096</title>\n",
       "<path fill=\"none\" stroke=\"black\" d=\"M1047.12,-45.5C1054.53,-45.5 1063.14,-45.5 1072.4,-45.5\"/>\n",
       "<polygon fill=\"black\" stroke=\"black\" points=\"1072.69,-49 1082.69,-45.5 1072.69,-42 1072.69,-49\"/>\n",
       "</g>\n",
       "<!-- 140032295261904 -->\n",
       "<g id=\"node7\" class=\"node\">\n",
       "<title>140032295261904</title>\n",
       "<polygon fill=\"none\" stroke=\"black\" points=\"727,-0.5 727,-36.5 955,-36.5 955,-0.5 727,-0.5\"/>\n",
       "<text text-anchor=\"middle\" x=\"738\" y=\"-14.8\" font-family=\"Times,serif\" font-size=\"14.00\">f</text>\n",
       "<polyline fill=\"none\" stroke=\"black\" points=\"749,-0.5 749,-36.5 \"/>\n",
       "<text text-anchor=\"middle\" x=\"800\" y=\"-14.8\" font-family=\"Times,serif\" font-size=\"14.00\">data 4.0000</text>\n",
       "<polyline fill=\"none\" stroke=\"black\" points=\"851,-0.5 851,-36.5 \"/>\n",
       "<text text-anchor=\"middle\" x=\"903\" y=\"-14.8\" font-family=\"Times,serif\" font-size=\"14.00\">grad 1.0000</text>\n",
       "</g>\n",
       "<!-- 140032295261904&#45;&gt;140032295270096* -->\n",
       "<g id=\"edge9\" class=\"edge\">\n",
       "<title>140032295261904&#45;&gt;140032295270096*</title>\n",
       "<path fill=\"none\" stroke=\"black\" d=\"M955.1,-35.75C965.21,-37.3 974.86,-38.77 983.46,-40.08\"/>\n",
       "<polygon fill=\"black\" stroke=\"black\" points=\"982.97,-43.54 993.38,-41.59 984.02,-36.62 982.97,-43.54\"/>\n",
       "</g>\n",
       "<!-- 140032295272272 -->\n",
       "<g id=\"node8\" class=\"node\">\n",
       "<title>140032295272272</title>\n",
       "<polygon fill=\"none\" stroke=\"black\" points=\"366,-28.5 366,-64.5 596,-64.5 596,-28.5 366,-28.5\"/>\n",
       "<text text-anchor=\"middle\" x=\"378\" y=\"-42.8\" font-family=\"Times,serif\" font-size=\"14.00\">c</text>\n",
       "<polyline fill=\"none\" stroke=\"black\" points=\"390,-28.5 390,-64.5 \"/>\n",
       "<text text-anchor=\"middle\" x=\"441\" y=\"-42.8\" font-family=\"Times,serif\" font-size=\"14.00\">data 5.0000</text>\n",
       "<polyline fill=\"none\" stroke=\"black\" points=\"492,-28.5 492,-64.5 \"/>\n",
       "<text text-anchor=\"middle\" x=\"544\" y=\"-42.8\" font-family=\"Times,serif\" font-size=\"14.00\">grad 4.0000</text>\n",
       "</g>\n",
       "<!-- 140032295272272&#45;&gt;140032295255632+ -->\n",
       "<g id=\"edge6\" class=\"edge\">\n",
       "<title>140032295272272&#45;&gt;140032295255632+</title>\n",
       "<path fill=\"none\" stroke=\"black\" d=\"M596.12,-63.71C606.7,-65.31 616.77,-66.83 625.69,-68.17\"/>\n",
       "<polygon fill=\"black\" stroke=\"black\" points=\"625.19,-71.64 635.6,-69.67 626.23,-64.72 625.19,-71.64\"/>\n",
       "</g>\n",
       "<!-- 140032295264720 -->\n",
       "<g id=\"node9\" class=\"node\">\n",
       "<title>140032295264720</title>\n",
       "<polygon fill=\"none\" stroke=\"black\" points=\"363,-83.5 363,-119.5 599,-119.5 599,-83.5 363,-83.5\"/>\n",
       "<text text-anchor=\"middle\" x=\"375.5\" y=\"-97.8\" font-family=\"Times,serif\" font-size=\"14.00\">e</text>\n",
       "<polyline fill=\"none\" stroke=\"black\" points=\"388,-83.5 388,-119.5 \"/>\n",
       "<text text-anchor=\"middle\" x=\"441.5\" y=\"-97.8\" font-family=\"Times,serif\" font-size=\"14.00\">data &#45;4.0000</text>\n",
       "<polyline fill=\"none\" stroke=\"black\" points=\"495,-83.5 495,-119.5 \"/>\n",
       "<text text-anchor=\"middle\" x=\"547\" y=\"-97.8\" font-family=\"Times,serif\" font-size=\"14.00\">grad 4.0000</text>\n",
       "</g>\n",
       "<!-- 140032295264720&#45;&gt;140032295255632+ -->\n",
       "<g id=\"edge4\" class=\"edge\">\n",
       "<title>140032295264720&#45;&gt;140032295255632+</title>\n",
       "<path fill=\"none\" stroke=\"black\" d=\"M597.13,-83.49C607.27,-81.91 616.92,-80.4 625.51,-79.05\"/>\n",
       "<polygon fill=\"black\" stroke=\"black\" points=\"626.09,-82.5 635.43,-77.5 625.01,-75.59 626.09,-82.5\"/>\n",
       "</g>\n",
       "<!-- 140032295264720*&#45;&gt;140032295264720 -->\n",
       "<g id=\"edge3\" class=\"edge\">\n",
       "<title>140032295264720*&#45;&gt;140032295264720</title>\n",
       "<path fill=\"none\" stroke=\"black\" d=\"M327.03,-101.5C334.58,-101.5 343.38,-101.5 352.87,-101.5\"/>\n",
       "<polygon fill=\"black\" stroke=\"black\" points=\"352.99,-105 362.99,-101.5 352.99,-98 352.99,-105\"/>\n",
       "</g>\n",
       "</g>\n",
       "</svg>\n"
      ],
      "text/plain": [
       "<graphviz.graphs.Digraph at 0x7f5bcf4f46d0>"
      ]
     },
     "execution_count": 61,
     "metadata": {},
     "output_type": "execute_result"
    }
   ],
   "source": [
    "plot_dot(L1)"
   ]
  },
  {
   "cell_type": "code",
   "execution_count": 62,
   "metadata": {},
   "outputs": [
    {
     "data": {
      "text/plain": [
       "3.9999999999995595"
      ]
     },
     "execution_count": 62,
     "metadata": {},
     "output_type": "execute_result"
    }
   ],
   "source": [
    "def lol():\n",
    "    h = 1e-4\n",
    "\n",
    "    a = Value(2.0, _label=\"a\")\n",
    "    b = Value(-2.0, _label=\"b\")\n",
    "    c = Value(5.0, _label=\"c\")\n",
    "    e = a * b\n",
    "    e._label = \"e\"\n",
    "    d = e + c\n",
    "    d._label = \"d\"\n",
    "    f = Value(4.0, _label=\"f\")\n",
    "    L1 = d * f\n",
    "    L1._label = \"L\"\n",
    "    L1._grad = 1.0\n",
    "\n",
    "    a = Value(2.0, _label=\"a\")\n",
    "    b = Value(-2.0, _label=\"b\")\n",
    "    c = Value(5.0, _label=\"c\")\n",
    "    e = a * b\n",
    "    e._label = \"e\"\n",
    "    d = e + c\n",
    "    d._label = \"d\"\n",
    "    d.data += h\n",
    "    f = Value(4.0, _label=\"f\")\n",
    "    L2 = d * f\n",
    "    L2._label = \"L\"\n",
    "    L2._grad = 1.0\n",
    "\n",
    "    return (L2.data - L1.data) / h\n",
    "\n",
    "\n",
    "lol()"
   ]
  }
 ],
 "metadata": {
  "kernelspec": {
   "display_name": "babygrad",
   "language": "python",
   "name": "python3"
  },
  "language_info": {
   "codemirror_mode": {
    "name": "ipython",
    "version": 3
   },
   "file_extension": ".py",
   "mimetype": "text/x-python",
   "name": "python",
   "nbconvert_exporter": "python",
   "pygments_lexer": "ipython3",
   "version": "3.11.5"
  }
 },
 "nbformat": 4,
 "nbformat_minor": 2
}
